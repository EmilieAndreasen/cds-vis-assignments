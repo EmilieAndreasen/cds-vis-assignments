{
 "cells": [
  {
   "cell_type": "markdown",
   "metadata": {},
   "source": [
    "## Assignment 1 (Visual)\n"
   ]
  },
  {
   "cell_type": "code",
   "execution_count": 5,
   "metadata": {},
   "outputs": [],
   "source": [
    "#importing libraries\n",
    "import os\n",
    "import sys\n",
    "sys.path.append(\"..\")\n",
    "\n",
    "import cv2\n",
    "import numpy as np\n",
    "import pandas as pd"
   ]
  },
  {
   "cell_type": "markdown",
   "metadata": {},
   "source": [
    "### Setup\n",
    "Defining path to chosen target flower and defining functions. <br>\n",
    "\n",
    "Includes a function (i.e, 'calc_hist') for getting the colour histogram using OpenCV and normalising them.\n",
    "\n",
    "The second function (i.e., 'compare_hists') utilises the above to extract the histograms for all other inputted images and then compares them to the target image."
   ]
  },
  {
   "cell_type": "code",
   "execution_count": 61,
   "metadata": {},
   "outputs": [],
   "source": [
    "filepath_target_flower = os.path.join(\"..\",\n",
    "                        \"..\",\n",
    "                        \"..\",\n",
    "                        \"..\",\n",
    "                        \"cds-vis-data\",\n",
    "                        \"flowers\",\n",
    "                        \"image_0555.jpg\")\n",
    "\n",
    "\n",
    "target_image = cv2.imread(filepath_target_flower)"
   ]
  },
  {
   "cell_type": "code",
   "execution_count": 62,
   "metadata": {},
   "outputs": [],
   "source": [
    "#function for calculating histograms for inputted image\n",
    "def calc_hist(image):\n",
    "    #creating empty list\n",
    "    hist = []\n",
    "    \n",
    "    #splitting\n",
    "    channels = cv2.split(image)\n",
    "    \n",
    "    #calculating hist for each channel\n",
    "    for channel in channels:\n",
    "        hist_channel = cv2.calcHist([channel], [0], None, [255], [0,256])\n",
    "        #append list\n",
    "        hist.append(hist_channel)\n",
    "    \n",
    "    #concatenating hists into 1 array --> normalise\n",
    "    hist = np.concatenate(hist)\n",
    "    hist_normalised = cv2.normalize(hist, hist, 0, 1.0, cv2.NORM_MINMAX)\n",
    "\n",
    "    return hist_normalised    "
   ]
  },
  {
   "cell_type": "code",
   "execution_count": 63,
   "metadata": {},
   "outputs": [],
   "source": [
    "#function for comparing histograms of target img with other image\n",
    "def compare_hists(target_hist, image_path):\n",
    "    #loading img\n",
    "    image = cv2.imread(image_path)\n",
    "\n",
    "    #calculating hist with previous function\n",
    "    image_hist = calc_hist(image)\n",
    "    \n",
    "    #comparing hists\n",
    "    distance = round(cv2.compareHist(target_hist, image_hist, cv2.HISTCMP_CHISQR),2)\n",
    "\n",
    "    return distance"
   ]
  },
  {
   "cell_type": "markdown",
   "metadata": {},
   "source": [
    "### Running the script\n",
    "Firstly getting the colour histogram for the target image.  \n",
    "\n",
    "Defining path to rest of images and defining filenames. Then using a for loop with the 'compare_hists' function to get the needed information. Finally, outputs the five most similar images to the target."
   ]
  },
  {
   "cell_type": "code",
   "execution_count": 64,
   "metadata": {},
   "outputs": [],
   "source": [
    "#calculating histogram for target image\n",
    "target_hist = calc_hist(target_image)"
   ]
  },
  {
   "cell_type": "code",
   "execution_count": 65,
   "metadata": {},
   "outputs": [],
   "source": [
    "#path to images\n",
    "data_path = os.path.join(\"..\",\n",
    "                        \"..\",\n",
    "                        \"..\",\n",
    "                        \"..\",\n",
    "                        \"cds-vis-data\",\n",
    "                        \"flowers\")\n",
    "#defining filenames\n",
    "filenames = [file for file in os.listdir(data_path) if file.endswith('jpg')]\n"
   ]
  },
  {
   "cell_type": "code",
   "execution_count": 66,
   "metadata": {},
   "outputs": [],
   "source": [
    "#list to store the (filename, distances)\n",
    "results = [] \n",
    "\n",
    "for filename in filenames:\n",
    "    img_path = os.path.join(data_path, filename)\n",
    "    distance = compare_hists(target_hist, img_path)\n",
    "    results.append((filename, distance))\n",
    "\n",
    "#checking for the 5 with shortest distance\n",
    "sorted_dist = sorted(results, key = lambda x: x[1])[:6] #after sorting, using slicing to select first 5 items\n",
    "\n",
    "#creating pandas df\n",
    "results_df = pd.DataFrame(sorted_dist, columns=[\"Filename\", \"Distance\"])\n",
    "\n",
    "results_df.to_csv(\"../out/most_similar_images.csv\", index = False)"
   ]
  },
  {
   "cell_type": "code",
   "execution_count": null,
   "metadata": {},
   "outputs": [],
   "source": [
    "#possible other way in case of target not occuring in file\n",
    "\n",
    "#new_row = pd.DataFrame({'Filename': ['Target'], 'Distance': [0.0]})\n",
    "#appending the new row to the DataFrame\n",
    "#results_df = pd.concat([new_row, results_df]).reset_index(drop=True)"
   ]
  }
 ],
 "metadata": {
  "kernelspec": {
   "display_name": "Python 3",
   "language": "python",
   "name": "python3"
  },
  "language_info": {
   "codemirror_mode": {
    "name": "ipython",
    "version": 3
   },
   "file_extension": ".py",
   "mimetype": "text/x-python",
   "name": "python",
   "nbconvert_exporter": "python",
   "pygments_lexer": "ipython3",
   "version": "3.10.12"
  }
 },
 "nbformat": 4,
 "nbformat_minor": 2
}
